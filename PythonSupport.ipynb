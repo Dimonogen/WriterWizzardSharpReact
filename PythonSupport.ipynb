{
 "cells": [
  {
   "cell_type": "code",
   "execution_count": 1,
   "metadata": {},
   "outputs": [
    {
     "name": "stdout",
     "output_type": "stream",
     "text": [
      "test\n"
     ]
    }
   ],
   "source": [
    "print(\"test\")"
   ]
  },
  {
   "cell_type": "code",
   "execution_count": 25,
   "metadata": {},
   "outputs": [
    {
     "name": "stdout",
     "output_type": "stream",
     "text": [
      "[[0.0, 1.0], [0.70711, 0.70711], [1.0, 0.0], [0.70711, -0.70711], [0.0, -1.0], [-0.70711, -0.70711], [-1.0, -0.0], [-0.70711, 0.70711]]\n"
     ]
    },
    {
     "ename": "TypeError",
     "evalue": "'str' object is not callable",
     "output_type": "error",
     "traceback": [
      "\u001b[1;31m---------------------------------------------------------------------------\u001b[0m",
      "\u001b[1;31mTypeError\u001b[0m                                 Traceback (most recent call last)",
      "Cell \u001b[1;32mIn[25], line 16\u001b[0m\n\u001b[0;32m     13\u001b[0m \u001b[38;5;28mprint\u001b[39m(arr)\n\u001b[0;32m     15\u001b[0m test \u001b[38;5;241m=\u001b[39m \u001b[38;5;241m1.0\u001b[39m\n\u001b[1;32m---> 16\u001b[0m strTe \u001b[38;5;241m=\u001b[39m \u001b[38;5;28;43mstr\u001b[39;49m\u001b[43m(\u001b[49m\u001b[43mtest\u001b[49m\u001b[43m)\u001b[49m\n\u001b[0;32m     17\u001b[0m \u001b[38;5;28mprint\u001b[39m(strTe)\n\u001b[0;32m     19\u001b[0m s \u001b[38;5;241m=\u001b[39m \u001b[38;5;124m\"\u001b[39m\u001b[38;5;124m\"\u001b[39m\n",
      "\u001b[1;31mTypeError\u001b[0m: 'str' object is not callable"
     ]
    }
   ],
   "source": [
    "import math\n",
    "\n",
    "arr = []\n",
    "\n",
    "count_vertex = 8\n",
    "\n",
    "for i in range(0, count_vertex):\n",
    "    angle = (math.pi*2)/count_vertex*i\n",
    "    x = round( math.sin(angle), 5)\n",
    "    y = round( math.cos(angle), 5)\n",
    "    arr.insert(i, [x, y])\n",
    "\n",
    "print(arr)\n",
    "\n",
    "test = 1.0\n",
    "strTe = str(test)\n",
    "print(strTe)\n",
    "\n",
    "s = \"\"\n",
    "\n",
    "for i in arr:\n",
    "    s = s + \", \"\n",
    "    for j in i:\n",
    "        s2 = str(j)\n",
    "        s = s + str(j) +\" \"\n",
    "\n",
    "print(s)"
   ]
  }
 ],
 "metadata": {
  "kernelspec": {
   "display_name": "Python 3",
   "language": "python",
   "name": "python3"
  },
  "language_info": {
   "name": "python",
   "version": "3.11.9"
  }
 },
 "nbformat": 4,
 "nbformat_minor": 2
}
